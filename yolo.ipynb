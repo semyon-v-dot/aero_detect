{
 "cells": [
  {
   "cell_type": "markdown",
   "metadata": {},
   "source": [
    "Yolo train"
   ]
  },
  {
   "cell_type": "code",
   "execution_count": null,
   "metadata": {},
   "outputs": [],
   "source": [
    "from ultralytics import YOLO\n",
    "\n",
    "# model = YOLO(\"yolov3s.yaml\")\n",
    "# model = YOLO(\"yolov8s.yaml\")\n",
    "model = YOLO(\".yaml\")\n",
    "# model = YOLO(\"yolov10s.yaml\")\n",
    "\n",
    "# model = YOLO(\"air.pt\")\n",
    "# model = YOLO(\"epoch60.pt\")\n",
    "\n",
    "model.train(data=\".yaml\", epochs=100, verbose=True, save=True, save_period=10)\n",
    "metrics = model.val()\n",
    "\n",
    "# metrics.box.map \n",
    "# metrics.box.map50\n",
    "# metrics.box.map75\n",
    "# metrics.box.maps  # a list contains map50-95 of each category\n",
    "\n",
    "# results = model(\"https://ultralytics.com/images/bus.jpg\")\n",
    "# path = model.export(format=\"onnx\")\n"
   ]
  },
  {
   "cell_type": "markdown",
   "metadata": {},
   "source": [
    "Yolo predict"
   ]
  },
  {
   "cell_type": "code",
   "execution_count": null,
   "metadata": {},
   "outputs": [],
   "source": [
    "from ultralytics import YOLO\n",
    "from PIL import Image\n",
    "\n",
    "model = YOLO(\"aero5.pt\")\n",
    "\n",
    "# accepts all formats - image/dir/Path/URL/video/PIL/ndarray. 0 for webcam\n",
    "# results = model.predict(source=\"0\")\n",
    "\n",
    "results = model.predict(source=\"E:\\\\repos\\\\aero_detect\\\\datasets\\\\hit-uav\\\\images\\\\test\", show=True) # Display preds. Accepts all YOLO predict arguments\n",
    "\n",
    "# # from PIL\n",
    "# im1 = Image.open(\"bus.jpg\")\n",
    "# results = model.predict(source=im1, save=True)  # save plotted images\n",
    "\n",
    "# # from ndarray\n",
    "# im2 = cv2.imread(\"bus.jpg\")\n",
    "# results = model.predict(source=im2, save=True, save_txt=True)  # save predictions as labels\n",
    "\n",
    "# # from list of PIL/ndarray\n",
    "# results = model.predict(source=[im1, im2])"
   ]
  }
 ],
 "metadata": {
  "kernelspec": {
   "display_name": "Python 3",
   "language": "python",
   "name": "python3"
  },
  "language_info": {
   "codemirror_mode": {
    "name": "ipython",
    "version": 3
   },
   "file_extension": ".py",
   "mimetype": "text/x-python",
   "name": "python",
   "nbconvert_exporter": "python",
   "pygments_lexer": "ipython3",
   "version": "3.12.4"
  }
 },
 "nbformat": 4,
 "nbformat_minor": 2
}
