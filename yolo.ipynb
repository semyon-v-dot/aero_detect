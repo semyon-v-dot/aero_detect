{
 "cells": [
  {
   "cell_type": "markdown",
   "metadata": {},
   "source": [
    "Yolo train"
   ]
  },
  {
   "cell_type": "code",
   "execution_count": null,
   "metadata": {},
   "outputs": [],
   "source": [
    "from ultralytics import YOLO\n",
    "\n",
    "# model = YOLO(\"yolov8n.yaml\") \n",
    "model = YOLO(\"yolov8s.yaml\")\n",
    "# model = YOLO(\"yolov8m.yaml\")\n",
    "\n",
    "# model = YOLO(\"yolov8n.pt\") # load a pretrained model (recommended for training)\n",
    "\n",
    "model.train(data=\"aero.yaml\", epochs=20, verbose=True)  # train the model\n",
    "\n",
    "metrics = model.val()  # evaluate model performance on the validation set\n",
    "metrics.box.map    # map50-95\n",
    "metrics.box.map50  # map50\n",
    "metrics.box.map75  # map75\n",
    "metrics.box.maps   # a list contains map50-95 of each category\n",
    "\n",
    "# results = model(\"https://ultralytics.com/images/bus.jpg\")  # predict on an image\n",
    "# path = model.export(format=\"onnx\")  # export the model to ONNX format\n"
   ]
  },
  {
   "cell_type": "markdown",
   "metadata": {},
   "source": [
    "Yolo predict"
   ]
  },
  {
   "cell_type": "code",
   "execution_count": null,
   "metadata": {},
   "outputs": [],
   "source": [
    "from ultralytics import YOLO\n",
    "from PIL import Image\n",
    "\n",
    "model = YOLO(\"aero1.pt\")\n",
    "\n",
    "# accepts all formats - image/dir/Path/URL/video/PIL/ndarray. 0 for webcam\n",
    "# results = model.predict(source=\"0\")\n",
    "\n",
    "results = model.predict(source=\"E:\\\\repos\\\\aero_detect\\\\datasets\\\\aero\\\\images\\\\test\", show=True) # Display preds. Accepts all YOLO predict arguments\n",
    "\n",
    "# # from PIL\n",
    "# im1 = Image.open(\"bus.jpg\")\n",
    "# results = model.predict(source=im1, save=True)  # save plotted images\n",
    "\n",
    "# # from ndarray\n",
    "# im2 = cv2.imread(\"bus.jpg\")\n",
    "# results = model.predict(source=im2, save=True, save_txt=True)  # save predictions as labels\n",
    "\n",
    "# # from list of PIL/ndarray\n",
    "# results = model.predict(source=[im1, im2])"
   ]
  }
 ],
 "metadata": {
  "language_info": {
   "name": "python"
  }
 },
 "nbformat": 4,
 "nbformat_minor": 2
}
