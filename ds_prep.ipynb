{
 "cells": [
  {
   "cell_type": "code",
   "execution_count": null,
   "metadata": {},
   "outputs": [],
   "source": [
    "import os\n",
    "import pickle\n",
    "import cv2 as cv\n",
    "import numpy as np\n",
    "\n",
    "from time import time"
   ]
  },
  {
   "cell_type": "markdown",
   "metadata": {},
   "source": [
    "Clear duplicates from annotations "
   ]
  },
  {
   "cell_type": "code",
   "execution_count": 2,
   "metadata": {},
   "outputs": [],
   "source": [
    "for i in range(6804):\n",
    "    with (open(f\"ann/obj_train_data/frame_{str(i).zfill(6)}.txt\") as f1, \n",
    "          open(f\"ann/labels/frame_{str(i).zfill(6)}.txt\", \"w\") as f2):\n",
    "        f2.writelines(set(f1.readlines()))"
   ]
  },
  {
   "cell_type": "markdown",
   "metadata": {},
   "source": [
    "Load fiftyone for dataset visualisation"
   ]
  },
  {
   "cell_type": "code",
   "execution_count": null,
   "metadata": {},
   "outputs": [],
   "source": [
    "import fiftyone as fo\n",
    "\n",
    "# fo.utils.video.reencode_video(\"/vids/IMG_1855.MP4\", \"/vids/NEW_IMG_1855.MP4\")\n",
    "\n",
    "# Create a dataset from a list of videos\n",
    "dataset = fo.Dataset.from_videos(\n",
    "    [\"./vids/IMG_1855.MP4\"]\n",
    ")\n",
    "    \n",
    "session = fo.launch_app(dataset)\n",
    "\n",
    "session.wait()"
   ]
  },
  {
   "cell_type": "markdown",
   "metadata": {},
   "source": [
    "Get images for dataset with big mathematical distance between them"
   ]
  },
  {
   "cell_type": "code",
   "execution_count": null,
   "metadata": {},
   "outputs": [],
   "source": [
    "DUPLICATES_MAX_DIFF = 1e7\n",
    "FRAMES_STEP = 250\n",
    "to_skip = set()\n",
    "timer = time()\n",
    "to_skip_prev = len(to_skip)\n",
    "for dirname in dirs:\n",
    "    vid_path = f'{DS_DIRNAME}/{dirname}/{dirname}'\n",
    "    if not os.path.isfile(vid_path):\n",
    "        continue\n",
    "\n",
    "    frames_path = f'{DS_DIRNAME}/{dirname}/{FRAMES_DIRNAME}'\n",
    "    frames = sorted(os.listdir(frames_path))\n",
    "    for i in range(len(frames) // FRAMES_STEP + 1):\n",
    "        ref_frame = frames[i*FRAMES_STEP]\n",
    "        similar_to_ref = set()\n",
    "        left_border = i*FRAMES_STEP + 1\n",
    "        right_border = min((i+1)*FRAMES_STEP, len(frames))\n",
    "        img1 = cv.imread(f'{frames_path}/{ref_frame}', cv.IMREAD_GRAYSCALE)\n",
    "        for j in range(left_border, right_border):\n",
    "            img2 = cv.imread(f'{frames_path}/{frames[j]}', cv.IMREAD_GRAYSCALE)\n",
    "            if np.sum(cv.absdiff(img1, img2)) <= DUPLICATES_MAX_DIFF:\n",
    "                similar_to_ref.add(f'{frames_path}/{frames[j]}')\n",
    "        to_skip.update(similar_to_ref)\n",
    "\n",
    "    print(f'{dirname} - {int(time() - timer)}s - {len(to_skip) - to_skip_prev} to skip')\n",
    "    to_skip_prev = len(to_skip)"
   ]
  },
  {
   "cell_type": "markdown",
   "metadata": {},
   "source": [
    "Check `to_skip` set"
   ]
  },
  {
   "cell_type": "code",
   "execution_count": null,
   "metadata": {},
   "outputs": [],
   "source": [
    "len(to_skip)"
   ]
  },
  {
   "cell_type": "code",
   "execution_count": null,
   "metadata": {},
   "outputs": [],
   "source": [
    "with open('to_skip.p', 'wb') as f:\n",
    "    pickle.dump(to_skip, f)\n",
    "\n",
    "with open('to_skip.p', 'rb') as f:\n",
    "    to_skip_p = pickle.load(f)"
   ]
  },
  {
   "cell_type": "markdown",
   "metadata": {},
   "source": [
    "Move images for train and val"
   ]
  },
  {
   "cell_type": "code",
   "execution_count": null,
   "metadata": {},
   "outputs": [],
   "source": [
    "\n",
    "\n",
    "RATIO = 0.8\n",
    "VID_LEN = 15002\n",
    "frames_amount = 12*VID_LEN - len(to_skip)\n",
    "counter = 0\n",
    "counter_prev = 0\n",
    "train_frames_path = f'{DS_FINAL_DIRNAME}/{TRAIN_DIRNAME}/{FRAMES_DIRNAME}'\n",
    "train_labels_path = f'{DS_FINAL_DIRNAME}/{TRAIN_DIRNAME}/{LABELS_DIRNAME}'\n",
    "val_frames_path = f'{DS_FINAL_DIRNAME}/{VAL_DIRNAME}/{FRAMES_DIRNAME}'\n",
    "val_labels_path = f'{DS_FINAL_DIRNAME}/{VAL_DIRNAME}/{LABELS_DIRNAME}'\n",
    "for dirname in [train_frames_path, train_labels_path, val_frames_path, val_labels_path]:\n",
    "    os.makedirs(dirname, exist_ok=True)\n",
    "for dirname in dirs:\n",
    "    vid_path = f'{DS_DIRNAME}/{dirname}/{dirname}'\n",
    "    if not os.path.isfile(vid_path):\n",
    "        continue\n",
    "\n",
    "    labels_path = f'{DS_DIRNAME}/{dirname}/{LABELS_DIRNAME}'\n",
    "    frames_path = f'{DS_DIRNAME}/{dirname}/{FRAMES_DIRNAME}'\n",
    "    for frame_name in os.listdir(frames_path):\n",
    "        if frame_name.startswith(dirname):\n",
    "            label_name = frame_name[:-4] + '.txt'\n",
    "            if counter <= frames_amount * RATIO:\n",
    "                os.rename(\n",
    "                    f'{frames_path}/{frame_name}',\n",
    "                    f'{train_frames_path}/{frame_name}'\n",
    "                )\n",
    "                os.rename(\n",
    "                    f'{labels_path}/{label_name}',\n",
    "                    f'{train_labels_path}/{label_name}'\n",
    "                )\n",
    "            else:\n",
    "                os.rename(\n",
    "                    f'{frames_path}/{frame_name}',\n",
    "                    f'{val_frames_path}/{frame_name}'\n",
    "                )\n",
    "                os.rename(\n",
    "                    f'{labels_path}/{label_name}',\n",
    "                    f'{val_labels_path}/{label_name}'\n",
    "                )\n",
    "            counter += 1\n",
    "\n",
    "    train_or_val = 'train' if counter <= frames_amount * RATIO else 'val'\n",
    "    print(f'{dirname} - {counter - counter_prev} - {train_or_val}')\n",
    "    counter_prev = counter\n"
   ]
  }
 ],
 "metadata": {
  "kernelspec": {
   "display_name": "Python 3",
   "language": "python",
   "name": "python3"
  },
  "language_info": {
   "codemirror_mode": {
    "name": "ipython",
    "version": 3
   },
   "file_extension": ".py",
   "mimetype": "text/x-python",
   "name": "python",
   "nbconvert_exporter": "python",
   "pygments_lexer": "ipython3",
   "version": "3.9.13"
  }
 },
 "nbformat": 4,
 "nbformat_minor": 2
}
