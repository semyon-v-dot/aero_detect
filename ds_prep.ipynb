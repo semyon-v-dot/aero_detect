{
 "cells": [
  {
   "cell_type": "markdown",
   "metadata": {},
   "source": [
    "Clear duplicates from annotations "
   ]
  },
  {
   "cell_type": "code",
   "execution_count": null,
   "metadata": {},
   "outputs": [],
   "source": [
    "for i in range(6804):\n",
    "    with (open(f\"ann/obj_train_data/frame_{str(i).zfill(6)}.txt\") as f1, \n",
    "          open(f\"ann/labels/frame_{str(i).zfill(6)}.txt\", \"a\") as f2):\n",
    "        f2.writelines(set(f1.readlines()))"
   ]
  },
  {
   "cell_type": "markdown",
   "metadata": {},
   "source": [
    "Load fiftyone for dataset visualisation"
   ]
  },
  {
   "cell_type": "code",
   "execution_count": null,
   "metadata": {},
   "outputs": [],
   "source": [
    "import fiftyone as fo\n",
    "\n",
    "# fo.utils.video.reencode_video(\"/vids/IMG_1855.MP4\", \"/vids/NEW_IMG_1855.MP4\")\n",
    "\n",
    "# Create a dataset from a list of videos\n",
    "dataset = fo.Dataset.from_videos(\n",
    "    [\"./vids/IMG_1855.MP4\"]\n",
    ")\n",
    "    \n",
    "session = fo.launch_app(dataset)\n",
    "\n",
    "session.wait()"
   ]
  }
 ],
 "metadata": {
  "language_info": {
   "name": "python"
  }
 },
 "nbformat": 4,
 "nbformat_minor": 2
}
