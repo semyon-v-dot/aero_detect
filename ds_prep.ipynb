{
 "cells": [
  {
   "cell_type": "code",
   "execution_count": 17,
   "metadata": {},
   "outputs": [],
   "source": [
    "import os\n",
    "import cv2 as cv\n",
    "import numpy as np\n",
    "import shutil "
   ]
  },
  {
   "cell_type": "markdown",
   "metadata": {},
   "source": [
    "Clear duplicates from annotations "
   ]
  },
  {
   "cell_type": "code",
   "execution_count": 2,
   "metadata": {},
   "outputs": [],
   "source": [
    "for i in range(6804):\n",
    "    with (open(f\"ann/obj_train_data/frame_{str(i).zfill(6)}.txt\") as f1, \n",
    "          open(f\"ann/labels/frame_{str(i).zfill(6)}.txt\", \"w\") as f2):\n",
    "        f2.writelines(set(f1.readlines()))"
   ]
  },
  {
   "cell_type": "markdown",
   "metadata": {},
   "source": [
    "Load fiftyone for dataset visualisation"
   ]
  },
  {
   "cell_type": "code",
   "execution_count": null,
   "metadata": {},
   "outputs": [],
   "source": [
    "import fiftyone as fo\n",
    "\n",
    "# fo.utils.video.reencode_video(\"/vids/IMG_1855.MP4\", \"/vids/NEW_IMG_1855.MP4\")\n",
    "\n",
    "# Create a dataset from a list of videos\n",
    "dataset = fo.Dataset.from_videos(\n",
    "    [\"./vids/IMG_1855.MP4\"]\n",
    ")\n",
    "    \n",
    "session = fo.launch_app(dataset)\n",
    "\n",
    "session.wait()"
   ]
  },
  {
   "cell_type": "markdown",
   "metadata": {},
   "source": [
    "Get images for dataset with big mathematical distance between them and move them"
   ]
  },
  {
   "cell_type": "code",
   "execution_count": 31,
   "metadata": {},
   "outputs": [],
   "source": [
    "TRAIN_OR_VAL = \"val\""
   ]
  },
  {
   "cell_type": "code",
   "execution_count": 32,
   "metadata": {},
   "outputs": [
    {
     "name": "stdout",
     "output_type": "stream",
     "text": [
      "843 to skip from 1230\n"
     ]
    }
   ],
   "source": [
    "MAX_DIFF_HYPERPARAM = 7e6\n",
    "IMAGES_STEP = 25\n",
    "to_skip = set()\n",
    "images_path = os.getcwd() + f'\\\\datasets\\\\aero2_init\\\\images\\\\{TRAIN_OR_VAL}'\n",
    "images = sorted(os.listdir(images_path))\n",
    "for i in range(len(images) // IMAGES_STEP + 1):\n",
    "    ref_img = images[i*IMAGES_STEP]\n",
    "    similar_to_ref = set()\n",
    "    left_border = i*IMAGES_STEP + 1\n",
    "    right_border = min((i+1)*IMAGES_STEP, len(images))\n",
    "    img1 = cv.imread(f'{images_path}\\\\{ref_img}', cv.IMREAD_GRAYSCALE)\n",
    "    for j in range(left_border, right_border):\n",
    "        img2 = cv.imread(f'{images_path}\\\\{images[j]}', cv.IMREAD_GRAYSCALE)\n",
    "        if np.sum(cv.absdiff(img1, img2)) <= MAX_DIFF_HYPERPARAM:\n",
    "            similar_to_ref.add(f'{images_path}\\\\{images[j]}')\n",
    "    to_skip.update(similar_to_ref)\n",
    "\n",
    "print(f'{len(to_skip)} to skip from {len(images)}')"
   ]
  },
  {
   "cell_type": "markdown",
   "metadata": {},
   "source": [
    "Move images for train or val"
   ]
  },
  {
   "cell_type": "code",
   "execution_count": 33,
   "metadata": {},
   "outputs": [],
   "source": [
    "images_path = os.getcwd() + f'\\\\datasets\\\\aero2_init\\\\images\\\\{TRAIN_OR_VAL}'\n",
    "labels_path = os.getcwd() + f'\\\\datasets\\\\aero2_init\\\\labels\\\\{TRAIN_OR_VAL}'\n",
    "images_new_path = os.getcwd() + f'\\\\datasets\\\\aero2\\\\images\\\\{TRAIN_OR_VAL}'\n",
    "labels_new_path = os.getcwd() + f'\\\\datasets\\\\aero2\\\\labels\\\\{TRAIN_OR_VAL}'\n",
    "for img_name in os.listdir(images_path):\n",
    "    img_filename = f'{images_path}\\\\{img_name}'\n",
    "    if img_filename not in to_skip:\n",
    "        shutil.copy(img_filename, f\"{images_new_path}\\\\{img_name}\")\n",
    "        label_name = f\"{img_name.split('.')[0]}.txt\"\n",
    "        shutil.copy(\n",
    "            f\"{labels_path}\\\\{label_name}\",\n",
    "            f\"{labels_new_path}\\\\{label_name}\")\n"
   ]
  },
  {
   "cell_type": "markdown",
   "metadata": {},
   "source": [
    "Cut frames from video"
   ]
  },
  {
   "cell_type": "code",
   "execution_count": null,
   "metadata": {},
   "outputs": [],
   "source": []
  },
  {
   "cell_type": "markdown",
   "metadata": {},
   "source": [
    "Get video from frames"
   ]
  },
  {
   "cell_type": "code",
   "execution_count": null,
   "metadata": {},
   "outputs": [],
   "source": [
    "for path in imgs_paths:\n",
    "    fourcc = cv.VideoWriter_fourcc(*'mp4v')\n",
    "    out_name = '_'.join(path.split('\\\\')) + \".mp4\"\n",
    "    out = cv.VideoWriter(out_name, fourcc, 30.0, resol[path.split('\\\\')[1]])\n",
    "    images = [f\"{os.getcwd()}{path}{i}\" for i in sorted(os.listdir(os.getcwd() + path))]\n",
    "    for img in images:\n",
    "            img_cv = cv.cvtColor(cv.imread(img), cv.COLOR_BGR2RGB)\n",
    "            out.write(img_cv)\n",
    "    out.release()"
   ]
  }
 ],
 "metadata": {
  "kernelspec": {
   "display_name": "Python 3",
   "language": "python",
   "name": "python3"
  },
  "language_info": {
   "codemirror_mode": {
    "name": "ipython",
    "version": 3
   },
   "file_extension": ".py",
   "mimetype": "text/x-python",
   "name": "python",
   "nbconvert_exporter": "python",
   "pygments_lexer": "ipython3",
   "version": "3.12.3"
  }
 },
 "nbformat": 4,
 "nbformat_minor": 2
}
